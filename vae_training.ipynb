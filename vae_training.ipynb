{
  "cells": [
    {
      "cell_type": "markdown",
      "metadata": {
        "id": "view-in-github",
        "colab_type": "text"
      },
      "source": [
        "<a href=\"https://colab.research.google.com/github/ofekrosenfeld1/thesis/blob/main/vae_training.ipynb\" target=\"_parent\"><img src=\"https://colab.research.google.com/assets/colab-badge.svg\" alt=\"Open In Colab\"/></a>"
      ]
    },
    {
      "cell_type": "code",
      "execution_count": null,
      "metadata": {
        "id": "KczMppEqDCgI"
      },
      "outputs": [],
      "source": [
        "#import relevant libraries\n",
        "import torch\n",
        "import torch.nn.functional as F\n",
        "from torch import nn\n",
        "import pandas as pd\n",
        "import json\n",
        "from torch.nn.utils.rnn import pad_sequence\n",
        "import ast\n",
        "from multiprocessing import Pool\n",
        "import matplotlib.pyplot as plt\n",
        "from tqdm import tqdm\n",
        "from torchsummary import summary\n",
        "from torch.utils.data import TensorDataset, DataLoader\n",
        "\n"
      ]
    },
    {
      "cell_type": "code",
      "source": [
        "repo = 'https://github.com/ofekrosenfeld1/thesis.git'\n",
        "!git clone $repo"
      ],
      "metadata": {
        "colab": {
          "base_uri": "https://localhost:8080/"
        },
        "id": "ayHduOqoyrpd",
        "outputId": "80ac176e-2c6d-4494-b28e-ff232b3b447f"
      },
      "execution_count": 2,
      "outputs": [
        {
          "output_type": "stream",
          "name": "stdout",
          "text": [
            "fatal: destination path 'thesis' already exists and is not an empty directory.\n"
          ]
        }
      ]
    },
    {
      "cell_type": "markdown",
      "source": [
        "#connect to drive and mount the relevant dataframe from drive"
      ],
      "metadata": {
        "id": "pf2koxu2uqbR"
      }
    },
    {
      "cell_type": "code",
      "execution_count": 1,
      "metadata": {
        "colab": {
          "base_uri": "https://localhost:8080/"
        },
        "id": "Pr2QeSkbjzNs",
        "outputId": "3c33d8a3-bfeb-4534-910f-fc31902e1f55"
      },
      "outputs": [
        {
          "output_type": "stream",
          "name": "stdout",
          "text": [
            "Drive already mounted at /content/drive; to attempt to forcibly remount, call drive.mount(\"/content/drive\", force_remount=True).\n"
          ]
        }
      ],
      "source": [
        "#connect to google drive in order to mount files\n",
        "from google.colab import drive\n",
        "drive.mount('/content/drive')"
      ]
    },
    {
      "cell_type": "code",
      "execution_count": null,
      "metadata": {
        "collapsed": true,
        "id": "buP5PdLRi733"
      },
      "outputs": [],
      "source": [
        "#load the chembl pre-processed data into the notebook\n",
        "chembl_df = pd.read_csv('/content/drive/My Drive/chembl_relevant_info_with_numeric_selfies.csv')\n",
        "chembl_df = chembl_df.drop(columns=['Unnamed: 0','Unnamed: 0.1','ChEMBL ID'])"
      ]
    },
    {
      "cell_type": "code",
      "execution_count": null,
      "metadata": {
        "colab": {
          "base_uri": "https://localhost:8080/"
        },
        "collapsed": true,
        "id": "hBI-eTbKqSDH",
        "outputId": "a2f1ecae-73e9-4015-ec36-fa7e2ff32d54"
      },
      "outputs": [
        {
          "name": "stdout",
          "output_type": "stream",
          "text": [
            "[C][C][=Branch1][C][=O][N][C][C][C][C][Branch2][Ring1][=N][C][=C][C][=C][Branch2][Ring1][C][C][C][O][C][=C][C][Branch1][C][Cl][=C][C][Branch1][C][Cl][=C][Ring1][Branch2][C][=C][Ring1][P][=C][Branch2][Ring1][Ring1][C][=Branch1][C][=O][N][Branch1][C][C][C][C][C][=C][C][=C][C][=C][Ring1][=Branch1][C][Branch1][Branch1][C][Ring2][Ring2][Branch1][N][Ring2][Ring2][Ring2][EOS]\n"
          ]
        }
      ],
      "source": [
        "print(chembl_df['SELFIES'][12345])"
      ]
    },
    {
      "cell_type": "code",
      "execution_count": null,
      "metadata": {
        "collapsed": true,
        "id": "09ooTd2WmD3m"
      },
      "outputs": [],
      "source": [
        "#load the covnersion idxs jsons (selfies - numeric representation and vice versia)\n",
        "with open('/content/drive/My Drive/idx_to_token.json','r') as f:\n",
        "    idx_to_tokens = json.load(f)\n",
        "\n",
        "with open('/content/drive/My Drive/token_to_indx.json','r') as f:\n",
        "    tokens_to_idx = json.load(f)"
      ]
    },
    {
      "cell_type": "code",
      "execution_count": null,
      "metadata": {
        "colab": {
          "base_uri": "https://localhost:8080/"
        },
        "id": "dD1xMT_cX13U",
        "outputId": "e11b9901-58ae-4457-aeb3-928b0d7a93f1"
      },
      "outputs": [
        {
          "name": "stdout",
          "output_type": "stream",
          "text": [
            "[N-1]\n",
            "211\n"
          ]
        }
      ],
      "source": [
        "print((idx_to_tokens['211']))\n",
        "print((tokens_to_idx['[N-1]']))"
      ]
    },
    {
      "cell_type": "code",
      "execution_count": null,
      "metadata": {
        "colab": {
          "base_uri": "https://localhost:8080/",
          "height": 472
        },
        "id": "WVCFPtWWLji5",
        "outputId": "132d7bc6-a9e4-4cfd-a3ed-3febd727424d"
      },
      "outputs": [
        {
          "data": {
            "image/png": "[encoded data removed]",
            "text/plain": [
              "<Figure size 640x480 with 1 Axes>"
            ]
          },
          "metadata": {},
          "output_type": "display_data"
        }
      ],
      "source": [
        "chembl_df['seq_len'] = chembl_df['numeric_selfies'].str.count(',') + 1\n",
        "plt.figure()\n",
        "plt.hist(chembl_df['seq_len'], bins=50)\n",
        "plt.xlabel('Sequence Length')\n",
        "plt.ylabel('Frequency')\n",
        "plt.title('Distribution of Sequence Lengths')\n",
        "plt.show()"
      ]
    },
    {
      "cell_type": "code",
      "execution_count": null,
      "metadata": {
        "colab": {
          "base_uri": "https://localhost:8080/"
        },
        "id": "fHEIZ8cQUtMA",
        "outputId": "aca44215-e6f9-4c1c-e7f5-f1ea70c772a2"
      },
      "outputs": [
        {
          "name": "stdout",
          "output_type": "stream",
          "text": [
            "71.0\n"
          ]
        }
      ],
      "source": [
        "percentile_90 = chembl_df['seq_len'].quantile(0.90)\n",
        "print(percentile_90)"
      ]
    },
    {
      "cell_type": "code",
      "execution_count": null,
      "metadata": {
        "id": "7RYjf9xqvZWY"
      },
      "outputs": [],
      "source": [
        "def fast_parse_and_pad(s, max_len, pad_value=0):\n",
        "    \"\"\"\n",
        "    Converts stringified numeric SELFIE to a fixed-length tensor.\n",
        "    Truncates if too long, pads with `pad_value` if too short.\n",
        "    \"\"\"\n",
        "    tokens = list(map(int, s.strip('[]').replace(' ', '').split(',')))\n",
        "    tokens = tokens[:max_len]  # Truncate if longer than max_len\n",
        "\n",
        "    # Pad to max_len\n",
        "    if len(tokens) < max_len:\n",
        "        tokens += [pad_value] * (max_len - len(tokens))\n",
        "\n",
        "    return torch.tensor(tokens, dtype=torch.long)\n",
        "\n",
        "def process_molecules_fixed_length(df, column, max_len, pad_value=0):\n",
        "    \"\"\"\n",
        "    Vectorized fixed-length processing of numeric SELFIE strings.\n",
        "    Returns a list of torch tensors, one per molecule.\n",
        "    \"\"\"\n",
        "    return df[column].apply(lambda s: fast_parse_and_pad(s, max_len, pad_value)).tolist()"
      ]
    },
    {
      "cell_type": "code",
      "execution_count": null,
      "metadata": {
        "collapsed": true,
        "id": "CEpaupugJhyB"
      },
      "outputs": [],
      "source": [
        "tensors = process_molecules_fixed_length(df = chembl_df, column='numeric_selfies', max_len=71, pad_value=0)"
      ]
    },
    {
      "cell_type": "code",
      "execution_count": null,
      "metadata": {
        "colab": {
          "base_uri": "https://localhost:8080/"
        },
        "id": "1JfNIe2oe9d1",
        "outputId": "0cf97a73-4855-4b66-e168-1241a18081ee"
      },
      "outputs": [
        {
          "name": "stdout",
          "output_type": "stream",
          "text": [
            "tensor([182, 232, 182, 115, 182, 115, 170, 244, 223, 223, 182, 115, 182, 115,\n",
            "        169, 115, 232, 182, 182, 115, 182, 115, 182, 169, 182, 192, 115, 244,\n",
            "          4, 182, 169, 182, 188, 115, 244, 258, 223, 115, 223, 115, 245, 244,\n",
            "          4, 182, 115, 245, 244, 232, 232, 182, 182, 182, 182, 182, 223, 182,\n",
            "        115, 223, 115, 244, 169, 210, 112, 182, 122, 227, 190,   0,   0,   0,\n",
            "          0])\n",
            "1623356\n"
          ]
        }
      ],
      "source": [
        "print(((tensors[10])))\n",
        "print(len(tensors))"
      ]
    },
    {
      "cell_type": "code",
      "execution_count": null,
      "metadata": {
        "id": "YrZovT71qlL3"
      },
      "outputs": [],
      "source": [
        "\n",
        "tensors_for_model = tensors\n",
        "#process the tensors to be a model-ready data\n",
        "#stack the tensors to be in one tensor of shape [N, seq_len]\n",
        "x_tensor = torch.stack(tensors_for_model)\n",
        "#use pytorch approach of creating a dataset object of the big tensor we created before\n",
        "dataset = TensorDataset(x_tensor)\n",
        "#load the data using the needed batch_size, while shuffling the data every epoch\n",
        "dataloader = DataLoader(dataset, batch_size= 64, shuffle=True)\n",
        "\n"
      ]
    },
    {
      "cell_type": "code",
      "execution_count": null,
      "metadata": {
        "collapsed": true,
        "id": "mMqJ3MVz1iLr"
      },
      "outputs": [],
      "source": [
        "#the main VAE class, inherits from nn.Module\n",
        "class SelfiesVAE(nn.Module):\n",
        "    #init gets the base properties of the class\n",
        "    #vocab_size = number of tokens in the vocabulary (of the selfies)\n",
        "    #pad_idx = the token used to represent the padding\n",
        "    def __init__(self, vocab_size, embedding_dim, hidden_dim, latent_dim, pad_idx,seq_len):\n",
        "        #super().__init__() is needed for inheritance of nn.Module properties\n",
        "        super().__init__()\n",
        "        #the tensor by itself does not contribute any information - or chemical inforamtion, hence an embedding is needed for each SELFIE\n",
        "        #better than one-hot due to lower dim. vector and more information can be passed through embeddings\n",
        "        #padding_idx helps the embedding to know which index was used for padding the tensor - to not count them in the backprop\n",
        "        self.embedding = nn.Embedding(vocab_size, embedding_dim, padding_idx=pad_idx)\n",
        "        #after the embedding layer, the data is encoded into rnn (gru)\n",
        "        self.encoder_rnn = nn.GRU(embedding_dim, hidden_dim, batch_first=True)\n",
        "        #then, the mu and logvar are generated - latent space\n",
        "        self.to_mu = nn.Linear(hidden_dim, latent_dim)\n",
        "        self.to_logvar = nn.Linear(hidden_dim, latent_dim)\n",
        "        #then, the latent space is converted into the hidden linear layer\n",
        "        self.latent_to_hidden = nn.Linear(latent_dim, hidden_dim)\n",
        "        #after going through to the hidden layer, it is potentially possible to add act. func. -can experiment w/ that\n",
        "        #finally, we decode through a gru layer\n",
        "        self.decoder_rnn = nn.GRU(embedding_dim, hidden_dim, batch_first=True)\n",
        "        #then - we finally have an output through a linear layer\n",
        "        self.output_layer = nn.Linear(hidden_dim, vocab_size)\n",
        "        #the fixed lenght of a sequence (molecule), defined in the EDA steps\n",
        "        self.seq_len = seq_len\n",
        "        #padding index = 0\n",
        "        self.pad_idx = pad_idx\n",
        "\n",
        "\n",
        "    def encode(self, x):\n",
        "        #x.long() makes the input in the correct format (int) into the embedding, embedding layer accepts integers\n",
        "        x_embed = self.embedding(x.long())\n",
        "        #gets the embedded and encode it through gru\n",
        "        #the output of the gru is outputs, h - but we just want the h, not all the outputs. we are interested in the summery vector of all the timesteps in the gru\n",
        "        _, h = self.encoder_rnn(x_embed)\n",
        "        #take just the needed dimentions\n",
        "        h = h.squeeze(0)\n",
        "        #get the mu out of h\n",
        "        mu = self.to_mu(h)\n",
        "        #get the logvar out of h\n",
        "        logvar = self.to_logvar(h)\n",
        "        return mu, logvar\n",
        "\n",
        "    def reparameterize(self, mu, logvar):\n",
        "        #reparametrization trick - using z = mu + std*eps~N(0,1), this allows to backprop through mu,std - while eps~N(0,1) stays the same\n",
        "        std = torch.exp(0.5 * logvar)\n",
        "        eps = torch.randn_like(std)\n",
        "        return mu + eps * std\n",
        "\n",
        "    def decode(self, z, seq_len):\n",
        "        #first, the z latent vector is decoded through linear layer that maps it into the shpe expected by the gru\n",
        "        hidden = self.latent_to_hidden(z).unsqueeze(0)\n",
        "        #get the batch size through z(0) - z is [batch_size, latent_vec_size]\n",
        "        batch_size = z.size(0)\n",
        "        #we need an initial input token to insert the gru - using the pad_idx as initial token\n",
        "        #the shape of the initial input is [batch_size,1]\n",
        "        #torch.long to match the expected type of embedded, then sending it to device\n",
        "        #the \"dummy input token\" is common usage as an initializer of the gru\n",
        "        input_token = torch.full((batch_size, 1), self.pad_idx, dtype=torch.long, device=z.device)\n",
        "        outputs = []\n",
        "\n",
        "        #each time the gru predicts the next token, so we iterate on each token in the seq_len\n",
        "        for _ in range(seq_len):\n",
        "            #get the embdedding of the input token - to get embedding vector of the token\n",
        "            embed = self.embedding(input_token)\n",
        "            #get the prediction (out) of the next token from the gru - based on the previous token\n",
        "            out, hidden = self.decoder_rnn(embed, hidden)\n",
        "            #logits are with shape [batch_size, vocab_size] meaning it maps the probability of each token from the vocabulary based on the output from the gru\n",
        "            #now, instead of each token we have a vector w/ probability of each possible token. remember we have a batch each time so its [batch_size, vocab_size]\n",
        "            logits = self.output_layer(out.squeeze(1))\n",
        "            #save the logits of each timestep\n",
        "            outputs.append(logits)\n",
        "            input_token = logits.argmax(dim=1, keepdim=True)  # Greedy decoding\n",
        "        #the results is stacked list of the output logits for each timestep\n",
        "        return torch.stack(outputs, dim=1)  # [B, L, V]\n",
        "\n",
        "\n",
        "    def forward(self, x):\n",
        "      #forward is important func. - as it inherits from nn.Module to be activates once the model is called\n",
        "      #the output of the forward is the logits (distr. for each token in each timestep) after the decoding, plus the mu,std of the latent space\n",
        "        mu, logvar = self.encode(x)\n",
        "        z = self.reparameterize(mu, logvar)\n",
        "        x_hat_logits = self.decode(z, x.size(1))\n",
        "        return x_hat_logits, mu, logvar\n",
        "\n",
        "\n",
        "# === Loss Function ===\n",
        "\n",
        "def vae_loss(x_hat_logits, x_true, mu, logvar, pad_idx):\n",
        "  #we use the cross_entropy as the reconstruction loss - makes the most sense\n",
        "  #here we do it token by token\n",
        "  #the -1 flattens it\n",
        "  #ignoring the pad index for loss calc ofc\n",
        "  #\n",
        "    recon_loss = F.cross_entropy(\n",
        "        x_hat_logits.view(-1, x_hat_logits.size(-1)),\n",
        "        x_true.view(-1),\n",
        "        ignore_index=pad_idx,\n",
        "        reduction='mean'\n",
        "    )\n",
        "    #also, we use the kl divergence as a regularization that the latent dist. behave like a gaussian dist. - keepin it as smooth as possible\n",
        "    kl_div = -0.5 * torch.mean(1 + logvar - mu.pow(2) - logvar.exp())\n",
        "    return recon_loss + kl_div, recon_loss, kl_div\n",
        "\n",
        "\n",
        "# === Training Setup ===\n",
        "\n",
        "def train_vae(model, dataloader, optimizer, device, pad_idx, num_epochs):\n",
        "    #sets the params into training setup\n",
        "    model.train()\n",
        "    for epoch in range(num_epochs):\n",
        "        total_loss = 0\n",
        "        total_recon = 0\n",
        "        total_kl = 0\n",
        "        #loop is an approach to define dataloader just with tdqm method(for process bars)\n",
        "        loop = tqdm(dataloader, desc=f\"Epoch {epoch+1}/{num_epochs}\")\n",
        "        #looping through each batch\n",
        "        for (x_batch,) in loop:\n",
        "            x_batch = x_batch.to(device)\n",
        "            #first resetting the gradients in the optimizer - independent each batch\n",
        "            optimizer.zero_grad()\n",
        "            #calc the x_hat, mu,var with model(batch) -> applying forward method\n",
        "            x_hat_logits, mu, logvar = model(x_batch)\n",
        "            #calc loss of the output\n",
        "            loss, recon, kl = vae_loss(x_hat_logits, x_batch, mu, logvar, pad_idx)\n",
        "            #do backprop based on the loss\n",
        "            loss.backward()\n",
        "            #update the model weights properly to the backprop\n",
        "            optimizer.step()\n",
        "            #collecting info for each loop to estimate how the model did over epochs\n",
        "            #loss is a tensor, hence by .item() you get the number only\n",
        "            total_loss += loss.item()\n",
        "            total_recon += recon.item()\n",
        "            total_kl += kl.item()\n",
        "            loop.set_postfix(loss=loss.item(), recon=recon.item(), kl=kl.item())\n",
        "\n",
        "        print(f\"Epoch {epoch+1} - Loss: {total_loss:.2f}, Recon: {total_recon:.2f}, KL: {total_kl:.2f}\")\n"
      ]
    },
    {
      "cell_type": "code",
      "execution_count": null,
      "metadata": {
        "id": "wL5Btrpxbcco"
      },
      "outputs": [],
      "source": []
    },
    {
      "cell_type": "code",
      "execution_count": null,
      "metadata": {
        "colab": {
          "background_save": true,
          "base_uri": "https://localhost:8080/"
        },
        "collapsed": true,
        "id": "lwW8eOBgW9X8",
        "outputId": "9de17902-a10f-41f3-b8a7-8ee2a46dd7d4"
      },
      "outputs": [
        {
          "name": "stderr",
          "output_type": "stream",
          "text": [
            "Epoch 1/20: 100%|██████████| 25365/25365 [32:06<00:00, 13.17it/s, kl=0.2, loss=1.99, recon=1.79]\n"
          ]
        },
        {
          "name": "stdout",
          "output_type": "stream",
          "text": [
            "Epoch 1 - Loss: 54271.84, Recon: 50690.51, KL: 3581.33\n"
          ]
        },
        {
          "name": "stderr",
          "output_type": "stream",
          "text": [
            "Epoch 2/20: 100%|██████████| 25365/25365 [32:08<00:00, 13.15it/s, kl=0.248, loss=1.99, recon=1.74]\n"
          ]
        },
        {
          "name": "stdout",
          "output_type": "stream",
          "text": [
            "Epoch 2 - Loss: 51236.66, Recon: 45473.52, KL: 5763.14\n"
          ]
        },
        {
          "name": "stderr",
          "output_type": "stream",
          "text": [
            "Epoch 3/20: 100%|██████████| 25365/25365 [32:12<00:00, 13.13it/s, kl=0.279, loss=1.91, recon=1.63]\n"
          ]
        },
        {
          "name": "stdout",
          "output_type": "stream",
          "text": [
            "Epoch 3 - Loss: 49870.86, Recon: 43219.10, KL: 6651.77\n"
          ]
        },
        {
          "name": "stderr",
          "output_type": "stream",
          "text": [
            "Epoch 4/20: 100%|██████████| 25365/25365 [31:53<00:00, 13.26it/s, kl=0.298, loss=1.93, recon=1.63]\n"
          ]
        },
        {
          "name": "stdout",
          "output_type": "stream",
          "text": [
            "Epoch 4 - Loss: 48800.11, Recon: 41490.70, KL: 7309.41\n"
          ]
        },
        {
          "name": "stderr",
          "output_type": "stream",
          "text": [
            "Epoch 5/20: 100%|██████████| 25365/25365 [31:44<00:00, 13.32it/s, kl=0.315, loss=1.84, recon=1.53]\n"
          ]
        },
        {
          "name": "stdout",
          "output_type": "stream",
          "text": [
            "Epoch 5 - Loss: 47618.05, Recon: 39647.80, KL: 7970.24\n"
          ]
        },
        {
          "name": "stderr",
          "output_type": "stream",
          "text": [
            "Epoch 6/20: 100%|██████████| 25365/25365 [31:35<00:00, 13.38it/s, kl=0.331, loss=1.88, recon=1.55]\n"
          ]
        },
        {
          "name": "stdout",
          "output_type": "stream",
          "text": [
            "Epoch 6 - Loss: 47263.57, Recon: 38700.50, KL: 8563.07\n"
          ]
        },
        {
          "name": "stderr",
          "output_type": "stream",
          "text": [
            "Epoch 7/20:  57%|█████▋    | 14515/25365 [18:18<13:38, 13.25it/s, kl=0.351, loss=1.88, recon=1.53]"
          ]
        }
      ],
      "source": [
        "\n",
        "if __name__ == \"__main__\":\n",
        "    #vocab size is the size of your unique tokens in your index, including padding idx\n",
        "    vocab_size = len(idx_to_tokens)\n",
        "    #seqeunce lenght - fixed lenght for all tensors describing the molecules, predefined before\n",
        "    seq_len = 71\n",
        "    #embedding size vector initialy set to 256\n",
        "    embedding_dim = 256\n",
        "    #hidden layer also 256\n",
        "    hidden_dim = 256\n",
        "    #latent dim would be 64\n",
        "    latent_dim = 64\n",
        "    #padding idx is 0\n",
        "    pad_idx = 0\n",
        "    #10 epochs, 32 molecules each time\n",
        "    num_epochs = 20\n",
        "    batch_size = 64\n",
        "    learning_rate = 1e-3\n",
        "    #set up the model with the dimenstions mentioned before\n",
        "    model = SelfiesVAE(vocab_size, embedding_dim, hidden_dim, latent_dim, pad_idx,seq_len)\n",
        "    #set up the device\n",
        "    device = torch.device(\"cuda\" if torch.cuda.is_available() else \"cpu\")\n",
        "    #send model to device\n",
        "    model = SelfiesVAE(vocab_size, embedding_dim, hidden_dim, latent_dim, pad_idx,seq_len).to(device)\n",
        "    #set up the ADAM optimizer\n",
        "    optimizer = torch.optim.Adam(model.parameters(), lr=learning_rate)\n",
        "    # Train the model\n",
        "    train_vae(model, dataloader, optimizer, device, pad_idx, num_epochs)"
      ]
    },
    {
      "cell_type": "code",
      "execution_count": null,
      "metadata": {
        "colab": {
          "background_save": true
        },
        "collapsed": true,
        "id": "nHeOXp9l8N75"
      },
      "outputs": [],
      "source": [
        "#saving the model paramaters in drive to re-use them later on for further experiment\n",
        "# save only the model parameters (recommended)\n",
        "torch.save(model.state_dict(), 'vae_selfies_all_data_exp.pt')\n",
        "#download to the local machine (optional)\n",
        "from google.colab import files\n",
        "files.download('vae_selfies_all_data_exp.pt')\n",
        "#save to google drive\n",
        "torch.save(model.state_dict(), '/content/drive/MyDrive/vae_selfies_all_data_exp.pt')"
      ]
    },
    {
      "cell_type": "code",
      "execution_count": null,
      "metadata": {
        "colab": {
          "base_uri": "https://localhost:8080/"
        },
        "id": "ZbLQrqtzK-fK",
        "outputId": "4335102b-a06e-4375-9be7-b9e47c77a5b7"
      },
      "outputs": [
        {
          "data": {
            "text/plain": [
              "<All keys matched successfully>"
            ]
          },
          "execution_count": 13,
          "metadata": {},
          "output_type": "execute_result"
        }
      ],
      "source": [
        "#loading saved weights from saved weights of experimental model\n",
        "vocab_size = len(idx_to_tokens)\n",
        "seq_len = 71\n",
        "embedding_dim = 256\n",
        "hidden_dim = 256\n",
        "latent_dim = 64\n",
        "pad_idx = 0\n",
        "num_epochs = 20\n",
        "batch_size = 64\n",
        "learning_rate = 1e-3\n",
        "model = SelfiesVAE(vocab_size, embedding_dim, hidden_dim, latent_dim, pad_idx,seq_len)\n",
        "#set up the device\n",
        "device = torch.device(\"cuda\" if torch.cuda.is_available() else \"cpu\")\n",
        "#send model to device\n",
        "model = SelfiesVAE(vocab_size, embedding_dim, hidden_dim, latent_dim, pad_idx,seq_len).to(device)\n",
        "model.load_state_dict(torch.load('/content/drive/MyDrive/vae_selfies_500k_first_exp.pt'))"
      ]
    },
    {
      "cell_type": "code",
      "execution_count": null,
      "metadata": {
        "colab": {
          "base_uri": "https://localhost:8080/"
        },
        "id": "vDOeDmNj2tR8",
        "outputId": "01368409-a866-470c-e7ad-7da89f5d63d3"
      },
      "outputs": [
        {
          "name": "stdout",
          "output_type": "stream",
          "text": [
            "tensor([182, 182, 169, 182, 182, 169, 182, 182, 182, 115, 258, 182, 170, 245,\n",
            "        245, 223, 182, 112, 182, 122, 182, 182, 115, 223, 169,   5, 182, 182,\n",
            "        115, 182, 115, 182, 115, 244, 112, 182, 115, 182, 115, 169, 244, 182,\n",
            "          9, 182, 115, 245, 244, 182, 244, 170, 120, 245, 244, 232, 190,   0,\n",
            "          0,   0,   0,   0,   0,   0,   0,   0,   0,   0,   0,   0,   0,   0,\n",
            "          0])\n",
            "['[C]', '[C]', '[Branch1]', '[C]', '[C]', '[Branch1]', '[C]', '[C]', '[C]', '[=C]', '[C]', '[=C]', '[Branch2]', '[Ring1]', '[P]', '[N]', '[C]', '[=Branch1]', '[C]', '[=O]', '[C]', '[C]', '[C]', '[C]', '[C]', '[C]', '[C]', '[C]', '[C]', '[C]', '[C]', '[C]', '[C]', '[C]', '[C]', '[C]', '[C]', '[C]', '[C]', '[C]', '[C]', '[C]', '[C]', '[C]', '[C]', '[Ring1]', '[Ring1]', '[C]', '[C]', '[C]', '[Ring2]', '[Ring1]', '[Ring1]', '[EOS]', '[EOS]', '[EOS]', '[EOS]', '[EOS]', '[EOS]', '[EOS]', '[EOS]', '[EOS]', '[EOS]', '[EOS]', '[EOS]', '[EOS]', '[EOS]', '[EOS]', '[EOS]', '[EOS]', '[EOS]'] 71\n",
            "['[C]', '[C]', '[Branch1]', '[C]', '[C]', '[Branch1]', '[C]', '[C]', '[C]', '[=C]', '[S]', '[C]', '[Branch2]', '[Ring2]', '[Ring2]', '[N]', '[C]', '[=Branch1]', '[C]', '[=O]', '[C]', '[C]', '[=C]', '[N]', '[Branch1]', '[#Branch2]', '[C]', '[C]', '[=C]', '[C]', '[=C]', '[C]', '[=C]', '[Ring1]', '[=Branch1]', '[C]', '[=C]', '[C]', '[=C]', '[Branch1]', '[Ring1]', '[C]', '[#N]', '[C]', '[=C]', '[Ring2]', '[Ring1]', '[C]', '[Ring1]', '[Branch2]', '[=N]', '[Ring2]', '[Ring1]', '[O]', '[EOS]', '<PAD>', '<PAD>', '<PAD>', '<PAD>', '<PAD>', '<PAD>', '<PAD>', '<PAD>', '<PAD>', '<PAD>', '<PAD>', '<PAD>', '<PAD>', '<PAD>', '<PAD>', '<PAD>'] 71\n"
          ]
        }
      ],
      "source": [
        "from __future__ import generator_stop\n",
        "#NOW - generate a new molecule from the VAE based on an input molecule\n",
        "mol = tensors[1000000]\n",
        "print(mol)\n",
        "x = mol.unsqueeze(0).to(device)\n",
        "#use eval mode - to not accidently activate all the behaviors of .train() mode\n",
        "# make sure model is in eval mode - no_grad saves memory and time, ensure inference mode\n",
        "model.eval()\n",
        "with torch.no_grad():\n",
        "    #encode the mu, logvar that represents your molecule\n",
        "    mu, logvar = model.encode(x)\n",
        "    z = model.reparameterize(mu, logvar)  # shape: [1, latent_dim]\n",
        "    #decode your sampled molecule from the latent space\n",
        "    logits = model.decode(z, seq_len)\n",
        "    token_ids = logits.argmax(dim=2)[0]  # [seq_len]\n",
        "    generated_tokens = [idx_to_tokens[str(i.item())] for i in token_ids]\n",
        "    original_mol = [idx_to_tokens[str(i.item())] for i in x[0]]\n",
        "    print(generated_tokens, len(generated_tokens))\n",
        "    print(original_mol, len(original_mol))\n"
      ]
    }
  ],
  "metadata": {
    "colab": {
      "machine_shape": "hm",
      "provenance": [],
      "authorship_tag": "ABX9TyO4ZLmKrGM922jedZmn2n22",
      "include_colab_link": true
    },
    "kernelspec": {
      "display_name": "Python 3",
      "name": "python3"
    },
    "language_info": {
      "name": "python"
    }
  },
  "nbformat": 4,
  "nbformat_minor": 0
}